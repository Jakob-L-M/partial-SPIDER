{
 "cells": [
  {
   "cell_type": "code",
   "execution_count": null,
   "metadata": {},
   "outputs": [],
   "source": [
    "import pandas as pd\n",
    "import numpy as np\n",
    "import seaborn as sns\n",
    "import matplotlib.pyplot as plt"
   ]
  },
  {
   "cell_type": "code",
   "execution_count": null,
   "metadata": {},
   "outputs": [],
   "source": [
    "df = pd.read_csv('execution_data.csv', dtype={'pINDs': int, 'threads': int})\n",
    "df"
   ]
  },
  {
   "cell_type": "code",
   "execution_count": null,
   "metadata": {},
   "outputs": [],
   "source": [
    "df = df[['enqueue', 'initialization', 'pINDCreation', 'pINDValidation', 'spilledFiles', 'threads', 'maxMemory']]\n",
    "df['total_time'] = np.sum(df[['enqueue', 'initialization', 'pINDCreation', 'pINDValidation']], axis=1)"
   ]
  },
  {
   "cell_type": "code",
   "execution_count": null,
   "metadata": {},
   "outputs": [],
   "source": [
    "grouped = df.groupby(['threads', 'maxMemory']).agg('mean').reset_index()\n",
    "grouped['total_time'] = np.round(grouped['total_time']/1000)\n",
    "grouped['spilledFiles'] = np.round(grouped['spilledFiles'])\n",
    "grouped"
   ]
  },
  {
   "cell_type": "code",
   "execution_count": null,
   "metadata": {},
   "outputs": [],
   "source": [
    "pivoted = grouped.pivot(index='threads', columns='maxMemory', values='total_time')"
   ]
  },
  {
   "cell_type": "code",
   "execution_count": null,
   "metadata": {},
   "outputs": [],
   "source": [
    "sns.heatmap(pivoted, cmap='crest', annot=True, fmt='g')\n",
    "plt.title('Total execution time in seconds (TPCH-1, 4GB RAM)')\n",
    "plt.show()"
   ]
  },
  {
   "cell_type": "code",
   "execution_count": null,
   "metadata": {},
   "outputs": [],
   "source": [
    "fig, ax = plt.subplots(1,5)\n",
    "fig.set_size_inches(30, 5)\n",
    "for c, maxM in enumerate(sorted(df['maxMemory'].unique())):\n",
    "    filtered = df[df['maxMemory'] == maxM]\n",
    "    filtered = filtered.sort_values('threads')\n",
    "    ax[c].bar(np.array(filtered['threads'], dtype=str), filtered['initialization'], color='#708B91', label='initialization')\n",
    "    ax[c].bar(np.array(filtered['threads'], dtype=str), filtered['enqueue'], bottom=filtered['initialization'], color='#E8DDAE', label='enqueue')\n",
    "    ax[c].bar(np.array(filtered['threads'], dtype=str), filtered['pINDValidation'], bottom=filtered['enqueue']+filtered['initialization'], color='#7FD5EB', label='validation')\n",
    "    ax[c].legend()\n",
    "    ax[c].set_ylabel('Execution time (ms)')\n",
    "    ax[c].set_ylim(top=67000)\n",
    "    ax[c].set_xlabel('Number of threads')\n",
    "    ax[c].set_title(f'{maxM}% memory')\n",
    "\n",
    "fig.suptitle('Execution time distribution under changing memory percentages (TPCH-1, 4GB)', fontsize=16)\n",
    "plt.show()"
   ]
  }
 ],
 "metadata": {
  "kernelspec": {
   "display_name": "Python 3",
   "language": "python",
   "name": "python3"
  },
  "language_info": {
   "codemirror_mode": {
    "name": "ipython",
    "version": 3
   },
   "file_extension": ".py",
   "mimetype": "text/x-python",
   "name": "python",
   "nbconvert_exporter": "python",
   "pygments_lexer": "ipython3",
   "version": "3.9.0"
  }
 },
 "nbformat": 4,
 "nbformat_minor": 2
}
