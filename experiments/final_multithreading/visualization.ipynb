{
 "cells": [
  {
   "cell_type": "code",
   "execution_count": null,
   "metadata": {},
   "outputs": [],
   "source": [
    "import matplotlib.pyplot as plt\n",
    "import pandas as pd\n",
    "\n",
    "from matplotlib import rc\n",
    "\n",
    "rc('font', **{'family': 'serif', 'serif': ['Computer Modern']})\n",
    "rc('text', usetex=True)"
   ]
  },
  {
   "cell_type": "code",
   "execution_count": null,
   "metadata": {},
   "outputs": [],
   "source": [
    "df = pd.read_csv('parallel_times.csv')[['database', 'threads', 'total_time']]\n",
    "df"
   ]
  },
  {
   "cell_type": "code",
   "execution_count": null,
   "metadata": {},
   "outputs": [],
   "source": [
    "markers = [\"2\", \"h\", \"v\", \"o\", \"d\", \"1\", \"8\", \"<\", \"s\", \"p\", \"^\", \"x\"]"
   ]
  },
  {
   "cell_type": "code",
   "execution_count": null,
   "metadata": {},
   "outputs": [],
   "source": [
    "grouped = df.sort_values(by=['database', 'threads']).groupby(['database', 'threads']).agg(min).reset_index().groupby('database').agg(list)\n",
    "\n",
    "plt.grid()\n",
    "for ind, row in enumerate(grouped.iterrows()):\n",
    "    dataset, r = row\n",
    "    t = [1] + [r['total_time'][i]/r['total_time'][0] for i in range(1, 12)]\n",
    "\n",
    "    plt.scatter(r['threads'], t, marker=markers[ind], c=plt.cm.plasma(round((256 * ind)/12)), alpha=1, label=dataset)\n",
    "    plt.plot(r['threads'], t, c=plt.cm.plasma(round((256 * ind)/12)), ls='--', lw=1, alpha=0.5)\n",
    "plt.legend(ncol=3, bbox_to_anchor=(0.1, 1.01))\n",
    "plt.xlim([1.5, 12.5])\n",
    "plt.ylim([0.15, 0.95])\n",
    "plt.yticks([i/10 for i in range(2, 10)], [f'{i*10}\\%' for i in range(2, 10)])\n",
    "plt.xticks([i for i in range(2, 13)])\n",
    "plt.ylabel('Relative execution time for non-parallel variant')\n",
    "plt.xlabel('Parallelization Degree')\n",
    "plt.savefig('spider_parallel.pdf', bbox_inches='tight')"
   ]
  },
  {
   "cell_type": "code",
   "execution_count": null,
   "metadata": {},
   "outputs": [],
   "source": [
    "grouped['best'] = grouped['total_time'].apply(min)/1000\n",
    "grouped"
   ]
  }
 ],
 "metadata": {
  "kernelspec": {
   "display_name": "Python 3",
   "language": "python",
   "name": "python3"
  },
  "language_info": {
   "codemirror_mode": {
    "name": "ipython",
    "version": 3
   },
   "file_extension": ".py",
   "mimetype": "text/x-python",
   "name": "python",
   "nbconvert_exporter": "python",
   "pygments_lexer": "ipython3",
   "version": "3.11.4"
  }
 },
 "nbformat": 4,
 "nbformat_minor": 2
}
