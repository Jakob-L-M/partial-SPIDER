{
 "cells": [
  {
   "cell_type": "code",
   "execution_count": 1,
   "metadata": {},
   "outputs": [],
   "source": [
    "import subprocess"
   ]
  },
  {
   "cell_type": "code",
   "execution_count": 2,
   "metadata": {},
   "outputs": [],
   "source": [
    "def run(dataset: str, parallel: int):\n",
    "    return subprocess.check_output(\n",
    "        [\n",
    "            \"java\",\n",
    "            \"-jar\",\n",
    "            f\"-Djava.util.concurrent.ForkJoinPool.common.parallelism={parallel}\",\n",
    "            \"pSPIDER.jar\",\n",
    "            dataset,\n",
    "        ]\n",
    "    )"
   ]
  },
  {
   "cell_type": "code",
   "execution_count": 3,
   "metadata": {},
   "outputs": [],
   "source": [
    "datasets = [\n",
    "    #\"ANCH\",\n",
    "    #\"Cars\",\n",
    "    \"EU\",\n",
    "    \"US\",\n",
    "    \"Population\",\n",
    "    \"Musicbrainz\",\n",
    "    \"T2D\",\n",
    "    \"Tesma\",\n",
    "    \"TPC-H 1\",\n",
    "    \"TPC-H 10\",\n",
    "    \"UniProt\",\n",
    "    \"US\",\n",
    "    \"WebTables\",\n",
    "]\n",
    "parallel = list(range(1, 13))\n"
   ]
  },
  {
   "cell_type": "code",
   "execution_count": 4,
   "metadata": {},
   "outputs": [
    {
     "name": "stdout",
     "output_type": "stream",
     "text": [
      "ANCH 1\n",
      "ANCH 2\n",
      "ANCH 3\n",
      "ANCH 4\n",
      "ANCH 5\n",
      "ANCH 6\n",
      "ANCH 7\n",
      "ANCH 8\n",
      "ANCH 9\n",
      "ANCH 10\n",
      "ANCH 11\n",
      "ANCH 12\n",
      "Cars 1\n",
      "Cars 2\n",
      "Cars 3\n",
      "Cars 4\n",
      "Cars 5\n",
      "Cars 6\n",
      "Cars 7\n",
      "Cars 8\n",
      "Cars 9\n",
      "Cars 10\n",
      "Cars 11\n",
      "Cars 12\n",
      "EU 1\n"
     ]
    }
   ],
   "source": [
    "for d, p in [(d, p) for d in datasets for p in parallel]:\n",
    "    print(d, p)\n",
    "    for _ in range(5):\n",
    "        run(d, p)"
   ]
  }
 ],
 "metadata": {
  "kernelspec": {
   "display_name": "Python 3",
   "language": "python",
   "name": "python3"
  },
  "language_info": {
   "codemirror_mode": {
    "name": "ipython",
    "version": 3
   },
   "file_extension": ".py",
   "mimetype": "text/x-python",
   "name": "python",
   "nbconvert_exporter": "python",
   "pygments_lexer": "ipython3",
   "version": "3.11.4"
  }
 },
 "nbformat": 4,
 "nbformat_minor": 2
}
