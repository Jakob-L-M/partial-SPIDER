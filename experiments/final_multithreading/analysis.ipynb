{
 "cells": [
  {
   "cell_type": "code",
   "execution_count": null,
   "metadata": {},
   "outputs": [],
   "source": [
    "import subprocess\n",
    "import time"
   ]
  },
  {
   "cell_type": "code",
   "execution_count": null,
   "metadata": {},
   "outputs": [],
   "source": [
    "def run(dataset: str, parallel: int):\n",
    "    return subprocess.check_output(\n",
    "        [\n",
    "            \"java\",\n",
    "            \"-jar\",\n",
    "            \"-Xmx20g\",\n",
    "            \"pSPIDER.jar\",\n",
    "            dataset,\n",
    "            str(parallel)\n",
    "        ]\n",
    "    )"
   ]
  },
  {
   "cell_type": "code",
   "execution_count": null,
   "metadata": {},
   "outputs": [],
   "source": [
    "datasets = [\n",
    "    \"ACNH\",\n",
    "    \"Cars\",\n",
    "    \"EU\",\n",
    "    \"US\",\n",
    "    \"Population\",\n",
    "    \"Musicbrainz\",\n",
    "    \"T2D\",\n",
    "    \"Tesma\",\n",
    "     \"TPC-H 1\",\n",
    "    \"TPC-H 10\",\n",
    "    \"UniProt\",\n",
    "    \"WebTables\",\n",
    "]\n",
    "parallel = list(range(1, 13))\n"
   ]
  },
  {
   "cell_type": "code",
   "execution_count": null,
   "metadata": {},
   "outputs": [],
   "source": [
    "for _ in range(20):\n",
    "    prev_d = ''\n",
    "    prev_time = time.time_ns()\n",
    "    for d, p in [(d, p) for d in datasets for p in parallel]:\n",
    "        if d == prev_d:\n",
    "            print(',', p, end='')\n",
    "        else:\n",
    "            print('\\n', d, ':', p, end='')\n",
    "            prev_d = d\n",
    "        run(d, p)\n",
    "        print(f' ({round((time.time_ns() - prev_time)/1_000_000_000, 2)}s)', end='')\n",
    "        prev_time = time.time_ns()"
   ]
  },
  {
   "cell_type": "code",
   "execution_count": null,
   "metadata": {},
   "outputs": [],
   "source": [
    "# convert result files to a single csv\n",
    "from glob import glob\n",
    "import pandas as pd\n",
    "import json\n",
    "\n",
    "data = []\n",
    "for file in glob('./results/*.json'):\n",
    "    with open(file, 'r') as f:\n",
    "        data.append(json.load(f))\n",
    "pd.DataFrame(data).to_csv('parallel_times.csv', index=False)"
   ]
  }
 ],
 "metadata": {
  "kernelspec": {
   "display_name": "Python 3",
   "language": "python",
   "name": "python3"
  },
  "language_info": {
   "codemirror_mode": {
    "name": "ipython",
    "version": 3
   },
   "file_extension": ".py",
   "mimetype": "text/x-python",
   "name": "python",
   "nbconvert_exporter": "python",
   "pygments_lexer": "ipython3",
   "version": "3.11.4"
  }
 },
 "nbformat": 4,
 "nbformat_minor": 2
}
